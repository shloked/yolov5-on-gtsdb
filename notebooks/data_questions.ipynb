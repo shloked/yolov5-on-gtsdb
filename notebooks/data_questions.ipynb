{
 "cells": [
  {
   "cell_type": "code",
   "execution_count": 2,
   "source": [
    "import numpy as np\n",
    "import os\n",
    "import pickle\n",
    "from glob import glob\n",
    "from tqdm import tqdm\n",
    "import time\n",
    "from pprint import pprint as pp\n",
    "from pathlib import Path\n",
    "import shutil\n",
    "import random\n",
    "from matplotlib import pyplot as plt\n",
    "import json\n",
    "import xml.etree.ElementTree as ET"
   ],
   "outputs": [],
   "metadata": {}
  },
  {
   "cell_type": "markdown",
   "source": [
    "# Read GTSDB Json for \"pn\""
   ],
   "metadata": {}
  },
  {
   "cell_type": "code",
   "execution_count": 3,
   "source": [
    "fname = \"../data/GTSDB.json\"\n",
    "preds = json.load(open(fname))\n",
    "preds = preds['output']['frames']\n",
    "preds[26]['signs'][0].keys()"
   ],
   "outputs": [
    {
     "output_type": "execute_result",
     "data": {
      "text/plain": [
       "dict_keys(['coordinates', 'detection_confidence', 'class'])"
      ]
     },
     "metadata": {},
     "execution_count": 3
    }
   ],
   "metadata": {}
  },
  {
   "cell_type": "code",
   "execution_count": 4,
   "source": [
    "\n",
    "for frame in preds:\n",
    "    for det in frame['signs']:\n",
    "        if det['class']=='pn':\n",
    "            print(frame['frame_number'],det['coordinates'])"
   ],
   "outputs": [
    {
     "output_type": "stream",
     "name": "stdout",
     "text": [
      "00259.ppm [533, 405, 14, 16]\n",
      "00259.ppm [485, 358, 15, 28]\n",
      "00261.ppm [1162, 310, 34, 39]\n",
      "00274.ppm [378, 361, 22, 30]\n",
      "00304.ppm [971, 432, 16, 18]\n",
      "00544.ppm [920, 453, 12, 15]\n",
      "00545.ppm [363, 439, 21, 22]\n",
      "00555.ppm [812, 492, 14, 14]\n",
      "00575.ppm [649, 412, 16, 18]\n",
      "00673.ppm [311, 428, 22, 24]\n",
      "00697.ppm [789, 423, 16, 16]\n",
      "00777.ppm [935, 475, 25, 34]\n",
      "00813.ppm [1025, 231, 47, 57]\n",
      "00841.ppm [890, 392, 17, 19]\n"
     ]
    }
   ],
   "metadata": {}
  },
  {
   "cell_type": "markdown",
   "source": [
    "# Prepare new gt.txt by parsing xml annotations"
   ],
   "metadata": {}
  },
  {
   "cell_type": "code",
   "execution_count": 22,
   "source": [
    "dataroot = \"/home/ubuntu/Shlok/gtsdb/data/FullIJCNN2013\"\n",
    "xmlfiles = glob(dataroot+\"/*.xml\")\n",
    "xmlfiles[:3]\n"
   ],
   "outputs": [
    {
     "output_type": "execute_result",
     "data": {
      "text/plain": [
       "['/home/ubuntu/Shlok/gtsdb/data/FullIJCNN2013/00575.xml',\n",
       " '/home/ubuntu/Shlok/gtsdb/data/FullIJCNN2013/00673.xml',\n",
       " '/home/ubuntu/Shlok/gtsdb/data/FullIJCNN2013/00259.xml']"
      ]
     },
     "metadata": {},
     "execution_count": 22
    }
   ],
   "metadata": {}
  },
  {
   "cell_type": "markdown",
   "source": [
    "## Parsing xml to prepare new gt lines"
   ],
   "metadata": {}
  },
  {
   "cell_type": "code",
   "execution_count": 39,
   "source": [
    "def parseXML(fname):\n",
    "    tree = ET.parse(fname)\n",
    "    root = tree.getroot()\n",
    "    flname = root.find('filename').text\n",
    "    objects = root.findall('object')\n",
    "    # print(objects)\n",
    "    # print(objects.find('bndbox'))\n",
    "    ret = []\n",
    "    for obj in objects:\n",
    "        clname = obj.find('name').text\n",
    "        bndbox = obj.find('bndbox')\n",
    "        bbox = [int(bndbox.find('xmin').text),\n",
    "            int(bndbox.find('ymin').text),\n",
    "            int(bndbox.find('xmax').text),\n",
    "            int(bndbox.find('ymax').text)\n",
    "        ]\n",
    "        ret.append((flname, clname, bbox))\n",
    "    \n",
    "    return ret\n",
    "\n",
    "annots = []\n",
    "for file in xmlfiles: annots+=parseXML(file)\n",
    "newgt_lines = list(map(lambda x: \"{};{};{};{};{};{}\".format(x[0], x[2][0],  x[2][1],  x[2][2],  x[2][3], x[1]), annots))\n",
    "newgt_lines[:3]"
   ],
   "outputs": [
    {
     "output_type": "execute_result",
     "data": {
      "text/plain": [
       "['00575.ppm;649;413;666;431;43',\n",
       " '00673.ppm;311;430;334;453;44',\n",
       " '00259.ppm;485;360;502;387;44']"
      ]
     },
     "metadata": {},
     "execution_count": 39
    }
   ],
   "metadata": {}
  },
  {
   "cell_type": "markdown",
   "source": [
    "## Saving new gt file"
   ],
   "metadata": {}
  },
  {
   "cell_type": "code",
   "execution_count": 41,
   "source": [
    "gt_lines = open(os.path.join(dataroot, \"gt.txt\")).read().split(\"\\n\")[:-1]\n",
    "\n",
    "outfile = os.path.join(dataroot, \"gtnew.txt\")\n",
    "with open(outfile, 'w') as fl:\n",
    "    for line in gt_lines:\n",
    "        fl.write(\"{}\\n\".format(line))\n",
    "    for line in newgt_lines:\n",
    "        fl.write(\"{}\\n\".format(line))\n"
   ],
   "outputs": [],
   "metadata": {}
  }
 ],
 "metadata": {
  "interpreter": {
   "hash": "47d517df254fbe59b5c04b69f23871c524fea7fc7dc51e349dcd158d9476f98d"
  },
  "kernelspec": {
   "name": "python3",
   "display_name": "Python 3.7.10 64-bit ('pytorch_latest_p37': conda)"
  },
  "language_info": {
   "codemirror_mode": {
    "name": "ipython",
    "version": 3
   },
   "file_extension": ".py",
   "mimetype": "text/x-python",
   "name": "python",
   "nbconvert_exporter": "python",
   "pygments_lexer": "ipython3",
   "version": "3.7.10"
  }
 },
 "nbformat": 4,
 "nbformat_minor": 2
}